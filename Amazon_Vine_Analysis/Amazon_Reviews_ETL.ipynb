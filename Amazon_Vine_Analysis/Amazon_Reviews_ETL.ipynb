{
  "nbformat": 4,
  "nbformat_minor": 0,
  "metadata": {
    "colab": {
      "name": "Amazon_Reviews_ETL.ipynb",
      "provenance": [],
      "collapsed_sections": []
    },
    "kernelspec": {
      "display_name": "PythonData",
      "language": "python",
      "name": "pythondata"
    },
    "language_info": {
      "codemirror_mode": {
        "name": "ipython",
        "version": 3
      },
      "file_extension": ".py",
      "mimetype": "text/x-python",
      "name": "python",
      "nbconvert_exporter": "python",
      "pygments_lexer": "ipython3",
      "version": "3.7.7"
    },
    "nteract": {
      "version": "0.12.3"
    }
  },
  "cells": [
    {
      "cell_type": "code",
      "metadata": {
        "id": "V58rxea0HqSa",
        "colab": {
          "base_uri": "https://localhost:8080/"
        },
        "outputId": "37323ee9-d175-4c07-cbbc-ac791b50ce62"
      },
      "source": [
        "import os\n",
        "# Find the latest version of spark 2.0  from http://www-us.apache.org/dist/spark/ and enter as the spark version\n",
        "# For example:\n",
        "# spark_version = 'spark-3.0.0'\n",
        "spark_version = 'spark-3.1.1'\n",
        "os.environ['SPARK_VERSION']=spark_version\n",
        "\n",
        "# Install Spark and Java\n",
        "!apt-get update\n",
        "!apt-get install openjdk-11-jdk-headless -qq > /dev/null\n",
        "!wget -q http://www-us.apache.org/dist/spark/$SPARK_VERSION/$SPARK_VERSION-bin-hadoop2.7.tgz\n",
        "!tar xf $SPARK_VERSION-bin-hadoop2.7.tgz\n",
        "!pip install -q findspark\n",
        "\n",
        "# Set Environment Variables\n",
        "import os\n",
        "os.environ[\"JAVA_HOME\"] = \"/usr/lib/jvm/java-11-openjdk-amd64\"\n",
        "os.environ[\"SPARK_HOME\"] = f\"/content/{spark_version}-bin-hadoop2.7\"\n",
        "\n",
        "# Start a SparkSession\n",
        "import findspark\n",
        "findspark.init()"
      ],
      "execution_count": 1,
      "outputs": [
        {
          "output_type": "stream",
          "text": [
            "\r0% [Working]\r            \rHit:1 http://ppa.launchpad.net/c2d4u.team/c2d4u4.0+/ubuntu bionic InRelease\n",
            "\r0% [Waiting for headers] [Waiting for headers] [Connected to cloud.r-project.or\r                                                                               \rHit:2 http://archive.ubuntu.com/ubuntu bionic InRelease\n",
            "\r                                                                               \rGet:3 http://archive.ubuntu.com/ubuntu bionic-updates InRelease [88.7 kB]\n",
            "\r                                                                               \rGet:4 http://security.ubuntu.com/ubuntu bionic-security InRelease [88.7 kB]\n",
            "\r                                                                               \rHit:5 http://ppa.launchpad.net/cran/libgit2/ubuntu bionic InRelease\n",
            "\r0% [3 InRelease 15.6 kB/88.7 kB 18%] [4 InRelease 34.4 kB/88.7 kB 39%] [Waiting\r                                                                               \rHit:6 https://cloud.r-project.org/bin/linux/ubuntu bionic-cran40/ InRelease\n",
            "\r0% [3 InRelease 15.6 kB/88.7 kB 18%] [4 InRelease 40.2 kB/88.7 kB 45%] [Connect\r0% [1 InRelease gpgv 15.9 kB] [3 InRelease 15.6 kB/88.7 kB 18%] [4 InRelease 40\r0% [1 InRelease gpgv 15.9 kB] [3 InRelease 47.5 kB/88.7 kB 54%] [Waiting for he\r                                                                               \rHit:7 http://ppa.launchpad.net/deadsnakes/ppa/ubuntu bionic InRelease\n",
            "\r0% [1 InRelease gpgv 15.9 kB] [3 InRelease 67.8 kB/88.7 kB 76%] [Connecting to \r0% [1 InRelease gpgv 15.9 kB] [Waiting for headers] [Connecting to ppa.launchpa\r                                                                               \rGet:8 http://archive.ubuntu.com/ubuntu bionic-backports InRelease [74.6 kB]\n",
            "Hit:9 http://ppa.launchpad.net/graphics-drivers/ppa/ubuntu bionic InRelease\n",
            "Ign:10 https://developer.download.nvidia.com/compute/cuda/repos/ubuntu1804/x86_64  InRelease\n",
            "Ign:11 https://developer.download.nvidia.com/compute/machine-learning/repos/ubuntu1804/x86_64  InRelease\n",
            "Hit:12 https://developer.download.nvidia.com/compute/cuda/repos/ubuntu1804/x86_64  Release\n",
            "Hit:13 https://developer.download.nvidia.com/compute/machine-learning/repos/ubuntu1804/x86_64  Release\n",
            "Fetched 252 kB in 2s (110 kB/s)\n",
            "Reading package lists... Done\n"
          ],
          "name": "stdout"
        }
      ]
    },
    {
      "cell_type": "code",
      "metadata": {
        "id": "_xKwTpATHqSe",
        "colab": {
          "base_uri": "https://localhost:8080/"
        },
        "outputId": "d2890e12-8675-48b8-8ce5-6072079f2a11"
      },
      "source": [
        "# Download the Postgres driver that will allow Spark to interact with Postgres.\n",
        "!wget https://jdbc.postgresql.org/download/postgresql-42.2.16.jar"
      ],
      "execution_count": 2,
      "outputs": [
        {
          "output_type": "stream",
          "text": [
            "--2021-03-20 23:02:16--  https://jdbc.postgresql.org/download/postgresql-42.2.16.jar\n",
            "Resolving jdbc.postgresql.org (jdbc.postgresql.org)... 72.32.157.228, 2001:4800:3e1:1::228\n",
            "Connecting to jdbc.postgresql.org (jdbc.postgresql.org)|72.32.157.228|:443... connected.\n",
            "HTTP request sent, awaiting response... 200 OK\n",
            "Length: 1002883 (979K) [application/java-archive]\n",
            "Saving to: ‘postgresql-42.2.16.jar.1’\n",
            "\n",
            "postgresql-42.2.16. 100%[===================>] 979.38K  1.68MB/s    in 0.6s    \n",
            "\n",
            "2021-03-20 23:02:17 (1.68 MB/s) - ‘postgresql-42.2.16.jar.1’ saved [1002883/1002883]\n",
            "\n"
          ],
          "name": "stdout"
        }
      ]
    },
    {
      "cell_type": "code",
      "metadata": {
        "id": "MMqDAjVS0KN9"
      },
      "source": [
        "from pyspark.sql import SparkSession\n",
        "spark = SparkSession.builder.appName(\"BigData-Challenge\").config(\"spark.driver.extraClassPath\",\"/content/postgresql-42.2.16.jar\").getOrCreate()"
      ],
      "execution_count": 3,
      "outputs": []
    },
    {
      "cell_type": "markdown",
      "metadata": {
        "id": "cyBsySGuY-9V"
      },
      "source": [
        "### Load Amazon Data into Spark DataFrame"
      ]
    },
    {
      "cell_type": "code",
      "metadata": {
        "id": "CtCmBhQJY-9Z",
        "colab": {
          "base_uri": "https://localhost:8080/"
        },
        "outputId": "ce3bb892-5b8f-41de-c17f-8fa5b063a4b4"
      },
      "source": [
        "from pyspark import SparkFiles\n",
        "url = \"https://s3.amazonaws.com/amazon-reviews-pds/tsv/amazon_reviews_us_Grocery_v1_00.tsv.gz\"\n",
        "spark.sparkContext.addFile(url)\n",
        "df = spark.read.csv(SparkFiles.get(\"amazon_reviews_us_Grocery_v1_00.tsv.gz\"), sep=\"\\t\", header=True, inferSchema=True)\n",
        "df.show()"
      ],
      "execution_count": 4,
      "outputs": [
        {
          "output_type": "stream",
          "text": [
            "+-----------+-----------+--------------+----------+--------------+--------------------+----------------+-----------+-------------+-----------+----+-----------------+--------------------+--------------------+-----------+\n",
            "|marketplace|customer_id|     review_id|product_id|product_parent|       product_title|product_category|star_rating|helpful_votes|total_votes|vine|verified_purchase|     review_headline|         review_body|review_date|\n",
            "+-----------+-----------+--------------+----------+--------------+--------------------+----------------+-----------+-------------+-----------+----+-----------------+--------------------+--------------------+-----------+\n",
            "|         US|   42521656|R26MV8D0KG6QI6|B000SAQCWC|     159713740|The Cravings Plac...|         Grocery|          5|            0|          0|   N|                Y|Using these for y...|As a family aller...| 2015-08-31|\n",
            "|         US|   12049833|R1OF8GP57AQ1A0|B00509LVIQ|     138680402|Mauna Loa Macadam...|         Grocery|          5|            0|          0|   N|                Y|           Wonderful|My favorite nut. ...| 2015-08-31|\n",
            "|         US|     107642|R3VDC1QB6MC4ZZ|B00KHXESLC|     252021703|Organic Matcha Gr...|         Grocery|          5|            0|          0|   N|                N|          Five Stars|This green tea ta...| 2015-08-31|\n",
            "|         US|    6042304|R12FA3DCF8F9ER|B000F8JIIC|     752728342|15oz Raspberry Ly...|         Grocery|          5|            0|          0|   N|                Y|          Five Stars|I love Melissa's ...| 2015-08-31|\n",
            "|         US|   18123821| RTWHVNV6X4CNJ|B004ZWR9RQ|     552138758|Stride Spark Kine...|         Grocery|          5|            0|          0|   N|                Y|          Five Stars|                good| 2015-08-31|\n",
            "|         US|   23649464| RIG9AWFOGRDVO|B00AL6QBZ6|     681475449|Herr's Popcorn Ho...|         Grocery|          2|            1|          1|   N|                Y|           Not Happy|The popcorn was s...| 2015-08-31|\n",
            "|         US|   32778285|R1S1XSG4ZCHDGS|B00BCNSTRA|     578681693|Larabar uber, 1.4...|         Grocery|          5|            1|          1|   N|                Y|          Five Stars|Love these bars, ...| 2015-08-31|\n",
            "|         US|   46612941| RB15NBVY5ELVW|B0089MM2BG|     350968436|Shirakiku Soba No...|         Grocery|          5|            2|          2|   N|                Y|          Five Stars|Love the taste bu...| 2015-08-31|\n",
            "|         US|   31525399| R56358YM1ZJ7I|B00Y1C9770|     729982780|Jif Chocolate Nut...|         Grocery|          5|            0|          0|   N|                N|      Great tasting!|I'm a member of t...| 2015-08-31|\n",
            "|         US|   19624355|R1ODXB3C9UP3NL|B00J074W94|       2499702|Orgain Organic Pl...|         Grocery|          1|            1|          3|   N|                N|Disgusting now an...|Used to be a dece...| 2015-08-31|\n",
            "|         US|   31910375|R155ZMVLD5C9BP|B0001VKKOO|     189938205|Bragg - All Natur...|         Grocery|          4|            3|          4|   N|                Y|If you like soy s...|I cannot tell the...| 2015-08-31|\n",
            "|         US|   12816533|R2IXW43PUNYM0G|B007TGH4CK|     398128262|Wholesome Sweeten...|         Grocery|          4|            1|          1|   N|                Y|          Four Stars|Good flavor and s...| 2015-08-31|\n",
            "|         US|   23208852|R3LYEG1QCK2BG0|B002HMN6SC|      18057786|Kadoya Pure Sesam...|         Grocery|          5|            0|          0|   N|                Y|          Five Stars|Great to use in r...| 2015-08-31|\n",
            "|         US|   17348415|R20LREICPM3YH0|B004NRHAZO|     595020880|Nishiki Premium B...|         Grocery|          5|            0|          0|   N|                Y|          Five Stars|It's rice. Have e...| 2015-08-31|\n",
            "|         US|   46763945| RHA5COCZDVB13|B00V7LJIG8|     173088090|Everly Passion Fr...|         Grocery|          5|            0|          0|   N|                Y|          Five Stars|Very good tasting...| 2015-08-31|\n",
            "|         US|     961747| RT9BGRQANMANE|B0000E2YFI|     120269621|Charms Blue Razzb...|         Grocery|          5|            0|          0|   N|                Y|           Excellent|They were perfect...| 2015-08-31|\n",
            "|         US|   16888081| ROD1TU5JCS7JQ|B00VK5SQOQ|     204992966|Food Should Taste...|         Grocery|          5|            0|          0|   N|                N|              YUMMY!|Wow, these are so...| 2015-08-31|\n",
            "|         US|   22765168|R3T6TTD2IN0EFZ|B00XDXMLL2|     971154239|Skippy Creamy Pea...|         Grocery|          1|            4|          4|   N|                N|1 Out Of 5 Of My ...|I bought this fro...| 2015-08-31|\n",
            "|         US|   36328996|R1OCUGZ444NKV3|B00MN4KX3A|     787182505|Celestial Seasoni...|         Grocery|          5|            5|          5|   N|                Y|delicious tea and...|I love this tea, ...| 2015-08-31|\n",
            "|         US|   27092724| RCQQGWTC4J4TZ|B004NTCE1M|     653570135|Nutiva Organic Vi...|         Grocery|          4|            0|          0|   N|                Y|    Best coconut oil|I have used servo...| 2015-08-31|\n",
            "+-----------+-----------+--------------+----------+--------------+--------------------+----------------+-----------+-------------+-----------+----+-----------------+--------------------+--------------------+-----------+\n",
            "only showing top 20 rows\n",
            "\n"
          ],
          "name": "stdout"
        }
      ]
    },
    {
      "cell_type": "markdown",
      "metadata": {
        "id": "2yUSe55VY-9t"
      },
      "source": [
        "### Create DataFrames to match tables"
      ]
    },
    {
      "cell_type": "code",
      "metadata": {
        "id": "C8REmY1aY-9u",
        "colab": {
          "base_uri": "https://localhost:8080/"
        },
        "outputId": "294e79b8-9dcf-495a-d4d5-0a7365fdbc70"
      },
      "source": [
        "# Drop Nas\n",
        "dropna_df = df.dropna()\n",
        "dropna_df.show()"
      ],
      "execution_count": 5,
      "outputs": [
        {
          "output_type": "stream",
          "text": [
            "+-----------+-----------+--------------+----------+--------------+--------------------+----------------+-----------+-------------+-----------+----+-----------------+--------------------+--------------------+-----------+\n",
            "|marketplace|customer_id|     review_id|product_id|product_parent|       product_title|product_category|star_rating|helpful_votes|total_votes|vine|verified_purchase|     review_headline|         review_body|review_date|\n",
            "+-----------+-----------+--------------+----------+--------------+--------------------+----------------+-----------+-------------+-----------+----+-----------------+--------------------+--------------------+-----------+\n",
            "|         US|   42521656|R26MV8D0KG6QI6|B000SAQCWC|     159713740|The Cravings Plac...|         Grocery|          5|            0|          0|   N|                Y|Using these for y...|As a family aller...| 2015-08-31|\n",
            "|         US|   12049833|R1OF8GP57AQ1A0|B00509LVIQ|     138680402|Mauna Loa Macadam...|         Grocery|          5|            0|          0|   N|                Y|           Wonderful|My favorite nut. ...| 2015-08-31|\n",
            "|         US|     107642|R3VDC1QB6MC4ZZ|B00KHXESLC|     252021703|Organic Matcha Gr...|         Grocery|          5|            0|          0|   N|                N|          Five Stars|This green tea ta...| 2015-08-31|\n",
            "|         US|    6042304|R12FA3DCF8F9ER|B000F8JIIC|     752728342|15oz Raspberry Ly...|         Grocery|          5|            0|          0|   N|                Y|          Five Stars|I love Melissa's ...| 2015-08-31|\n",
            "|         US|   18123821| RTWHVNV6X4CNJ|B004ZWR9RQ|     552138758|Stride Spark Kine...|         Grocery|          5|            0|          0|   N|                Y|          Five Stars|                good| 2015-08-31|\n",
            "|         US|   23649464| RIG9AWFOGRDVO|B00AL6QBZ6|     681475449|Herr's Popcorn Ho...|         Grocery|          2|            1|          1|   N|                Y|           Not Happy|The popcorn was s...| 2015-08-31|\n",
            "|         US|   32778285|R1S1XSG4ZCHDGS|B00BCNSTRA|     578681693|Larabar uber, 1.4...|         Grocery|          5|            1|          1|   N|                Y|          Five Stars|Love these bars, ...| 2015-08-31|\n",
            "|         US|   46612941| RB15NBVY5ELVW|B0089MM2BG|     350968436|Shirakiku Soba No...|         Grocery|          5|            2|          2|   N|                Y|          Five Stars|Love the taste bu...| 2015-08-31|\n",
            "|         US|   31525399| R56358YM1ZJ7I|B00Y1C9770|     729982780|Jif Chocolate Nut...|         Grocery|          5|            0|          0|   N|                N|      Great tasting!|I'm a member of t...| 2015-08-31|\n",
            "|         US|   19624355|R1ODXB3C9UP3NL|B00J074W94|       2499702|Orgain Organic Pl...|         Grocery|          1|            1|          3|   N|                N|Disgusting now an...|Used to be a dece...| 2015-08-31|\n",
            "|         US|   31910375|R155ZMVLD5C9BP|B0001VKKOO|     189938205|Bragg - All Natur...|         Grocery|          4|            3|          4|   N|                Y|If you like soy s...|I cannot tell the...| 2015-08-31|\n",
            "|         US|   12816533|R2IXW43PUNYM0G|B007TGH4CK|     398128262|Wholesome Sweeten...|         Grocery|          4|            1|          1|   N|                Y|          Four Stars|Good flavor and s...| 2015-08-31|\n",
            "|         US|   23208852|R3LYEG1QCK2BG0|B002HMN6SC|      18057786|Kadoya Pure Sesam...|         Grocery|          5|            0|          0|   N|                Y|          Five Stars|Great to use in r...| 2015-08-31|\n",
            "|         US|   17348415|R20LREICPM3YH0|B004NRHAZO|     595020880|Nishiki Premium B...|         Grocery|          5|            0|          0|   N|                Y|          Five Stars|It's rice. Have e...| 2015-08-31|\n",
            "|         US|   46763945| RHA5COCZDVB13|B00V7LJIG8|     173088090|Everly Passion Fr...|         Grocery|          5|            0|          0|   N|                Y|          Five Stars|Very good tasting...| 2015-08-31|\n",
            "|         US|     961747| RT9BGRQANMANE|B0000E2YFI|     120269621|Charms Blue Razzb...|         Grocery|          5|            0|          0|   N|                Y|           Excellent|They were perfect...| 2015-08-31|\n",
            "|         US|   16888081| ROD1TU5JCS7JQ|B00VK5SQOQ|     204992966|Food Should Taste...|         Grocery|          5|            0|          0|   N|                N|              YUMMY!|Wow, these are so...| 2015-08-31|\n",
            "|         US|   22765168|R3T6TTD2IN0EFZ|B00XDXMLL2|     971154239|Skippy Creamy Pea...|         Grocery|          1|            4|          4|   N|                N|1 Out Of 5 Of My ...|I bought this fro...| 2015-08-31|\n",
            "|         US|   36328996|R1OCUGZ444NKV3|B00MN4KX3A|     787182505|Celestial Seasoni...|         Grocery|          5|            5|          5|   N|                Y|delicious tea and...|I love this tea, ...| 2015-08-31|\n",
            "|         US|   27092724| RCQQGWTC4J4TZ|B004NTCE1M|     653570135|Nutiva Organic Vi...|         Grocery|          4|            0|          0|   N|                Y|    Best coconut oil|I have used servo...| 2015-08-31|\n",
            "+-----------+-----------+--------------+----------+--------------+--------------------+----------------+-----------+-------------+-----------+----+-----------------+--------------------+--------------------+-----------+\n",
            "only showing top 20 rows\n",
            "\n"
          ],
          "name": "stdout"
        }
      ]
    },
    {
      "cell_type": "code",
      "metadata": {
        "colab": {
          "base_uri": "https://localhost:8080/"
        },
        "id": "9PYxBVeukz4w",
        "outputId": "c9efe38a-6c4e-49bc-c5a5-cfa16a3ed46f"
      },
      "source": [
        "# Load in a sql function to use columns\n",
        "from pyspark.sql.functions import col\n",
        "\n",
        "# Filter for only columns with verified purchases\n",
        "cleaned_df = dropna_df.filter(col(\"verified_purchase\") == True)\n",
        "cleaned_df.show()"
      ],
      "execution_count": 6,
      "outputs": [
        {
          "output_type": "stream",
          "text": [
            "+-----------+-----------+--------------+----------+--------------+--------------------+----------------+-----------+-------------+-----------+----+-----------------+--------------------+--------------------+-----------+\n",
            "|marketplace|customer_id|     review_id|product_id|product_parent|       product_title|product_category|star_rating|helpful_votes|total_votes|vine|verified_purchase|     review_headline|         review_body|review_date|\n",
            "+-----------+-----------+--------------+----------+--------------+--------------------+----------------+-----------+-------------+-----------+----+-----------------+--------------------+--------------------+-----------+\n",
            "|         US|   42521656|R26MV8D0KG6QI6|B000SAQCWC|     159713740|The Cravings Plac...|         Grocery|          5|            0|          0|   N|                Y|Using these for y...|As a family aller...| 2015-08-31|\n",
            "|         US|   12049833|R1OF8GP57AQ1A0|B00509LVIQ|     138680402|Mauna Loa Macadam...|         Grocery|          5|            0|          0|   N|                Y|           Wonderful|My favorite nut. ...| 2015-08-31|\n",
            "|         US|    6042304|R12FA3DCF8F9ER|B000F8JIIC|     752728342|15oz Raspberry Ly...|         Grocery|          5|            0|          0|   N|                Y|          Five Stars|I love Melissa's ...| 2015-08-31|\n",
            "|         US|   18123821| RTWHVNV6X4CNJ|B004ZWR9RQ|     552138758|Stride Spark Kine...|         Grocery|          5|            0|          0|   N|                Y|          Five Stars|                good| 2015-08-31|\n",
            "|         US|   23649464| RIG9AWFOGRDVO|B00AL6QBZ6|     681475449|Herr's Popcorn Ho...|         Grocery|          2|            1|          1|   N|                Y|           Not Happy|The popcorn was s...| 2015-08-31|\n",
            "|         US|   32778285|R1S1XSG4ZCHDGS|B00BCNSTRA|     578681693|Larabar uber, 1.4...|         Grocery|          5|            1|          1|   N|                Y|          Five Stars|Love these bars, ...| 2015-08-31|\n",
            "|         US|   46612941| RB15NBVY5ELVW|B0089MM2BG|     350968436|Shirakiku Soba No...|         Grocery|          5|            2|          2|   N|                Y|          Five Stars|Love the taste bu...| 2015-08-31|\n",
            "|         US|   31910375|R155ZMVLD5C9BP|B0001VKKOO|     189938205|Bragg - All Natur...|         Grocery|          4|            3|          4|   N|                Y|If you like soy s...|I cannot tell the...| 2015-08-31|\n",
            "|         US|   12816533|R2IXW43PUNYM0G|B007TGH4CK|     398128262|Wholesome Sweeten...|         Grocery|          4|            1|          1|   N|                Y|          Four Stars|Good flavor and s...| 2015-08-31|\n",
            "|         US|   23208852|R3LYEG1QCK2BG0|B002HMN6SC|      18057786|Kadoya Pure Sesam...|         Grocery|          5|            0|          0|   N|                Y|          Five Stars|Great to use in r...| 2015-08-31|\n",
            "|         US|   17348415|R20LREICPM3YH0|B004NRHAZO|     595020880|Nishiki Premium B...|         Grocery|          5|            0|          0|   N|                Y|          Five Stars|It's rice. Have e...| 2015-08-31|\n",
            "|         US|   46763945| RHA5COCZDVB13|B00V7LJIG8|     173088090|Everly Passion Fr...|         Grocery|          5|            0|          0|   N|                Y|          Five Stars|Very good tasting...| 2015-08-31|\n",
            "|         US|     961747| RT9BGRQANMANE|B0000E2YFI|     120269621|Charms Blue Razzb...|         Grocery|          5|            0|          0|   N|                Y|           Excellent|They were perfect...| 2015-08-31|\n",
            "|         US|   36328996|R1OCUGZ444NKV3|B00MN4KX3A|     787182505|Celestial Seasoni...|         Grocery|          5|            5|          5|   N|                Y|delicious tea and...|I love this tea, ...| 2015-08-31|\n",
            "|         US|   27092724| RCQQGWTC4J4TZ|B004NTCE1M|     653570135|Nutiva Organic Vi...|         Grocery|          4|            0|          0|   N|                Y|    Best coconut oil|I have used servo...| 2015-08-31|\n",
            "|         US|   49551226|R2Z0LF8EQK62VB|B004BGM3HC|     608319289|Abbaye De Flavign...|         Grocery|          5|            0|          0|   N|                Y|          Five Stars|Taste as remember...| 2015-08-31|\n",
            "|         US|   32138061|R101OH1JM3L08F|B005QBAM6A|     127889324|Underberg Bitter ...|         Grocery|          5|            0|          0|   N|                Y|          Five Stars|     LOVE THIS STUFF| 2015-08-31|\n",
            "|         US|   35636887| R9MISLBRG08FX|B00DBSFXUA|     294404974|Keebler Town Hous...|         Grocery|          1|            0|          0|   N|                Y|       pita crackers|not craze about t...| 2015-08-31|\n",
            "|         US|   31098097|R1NEKLQXUMRU9J|B00BJ5FISE|     607453108|Knorr Dill & Herb...|         Grocery|          5|            0|          0|   N|                Y|          Five Stars|We love it. It gi...| 2015-08-31|\n",
            "|         US|   10013512| RJKKUAD4MQB1M|B004LUNVUG|     312488344|Monin Sugar Free ...|         Grocery|          5|            0|          0|   N|                Y|     Nice big bottle|A very large bott...| 2015-08-31|\n",
            "+-----------+-----------+--------------+----------+--------------+--------------------+----------------+-----------+-------------+-----------+----+-----------------+--------------------+--------------------+-----------+\n",
            "only showing top 20 rows\n",
            "\n"
          ],
          "name": "stdout"
        }
      ]
    },
    {
      "cell_type": "code",
      "metadata": {
        "id": "B0TESUDRY-90",
        "colab": {
          "base_uri": "https://localhost:8080/"
        },
        "outputId": "cf3e37fb-7b0c-43c7-ff3f-25cf6725622e"
      },
      "source": [
        "# Create the customers_table DataFrame\n",
        "customers_df = cleaned_df.groupby(\"customer_id\").agg({\"customer_id\":\"count\"}).withColumnRenamed(\"count(customer_id\", \"customer_count\")\n",
        "customers_df.show(5)"
      ],
      "execution_count": 7,
      "outputs": [
        {
          "output_type": "stream",
          "text": [
            "+-----------+------------------+\n",
            "|customer_id|count(customer_id)|\n",
            "+-----------+------------------+\n",
            "|   21294263|                 1|\n",
            "|   43626894|                 1|\n",
            "|   38209321|                 4|\n",
            "|   40568205|                 1|\n",
            "|   13480593|                 1|\n",
            "+-----------+------------------+\n",
            "only showing top 5 rows\n",
            "\n"
          ],
          "name": "stdout"
        }
      ]
    },
    {
      "cell_type": "code",
      "metadata": {
        "id": "4FwXA6UvY-96",
        "colab": {
          "base_uri": "https://localhost:8080/"
        },
        "outputId": "0ea27280-8176-4052-9d72-9ab673f56cb6"
      },
      "source": [
        "# Create the products_table DataFrame and drop duplicates. \n",
        "products_df = cleaned_df.select([\"product_id\",\"product_title\"]).drop_duplicates()\n",
        "products_df.show(5)"
      ],
      "execution_count": 8,
      "outputs": [
        {
          "output_type": "stream",
          "text": [
            "+----------+--------------------+\n",
            "|product_id|       product_title|\n",
            "+----------+--------------------+\n",
            "|B0088PCJ1C|Bob's Pickle Pops...|\n",
            "|B005P0U5BO|Envirokidz Organi...|\n",
            "|B00K2RY8GI|Coffee Variety Sa...|\n",
            "|B008233EI2|Once Again Organi...|\n",
            "|B004AJIG76|Krusteaz Belgian ...|\n",
            "+----------+--------------------+\n",
            "only showing top 5 rows\n",
            "\n"
          ],
          "name": "stdout"
        }
      ]
    },
    {
      "cell_type": "code",
      "metadata": {
        "id": "MkqyCuNQY-9-",
        "colab": {
          "base_uri": "https://localhost:8080/"
        },
        "outputId": "a5c5b8eb-a720-4baa-ca9e-0cedc612aab7"
      },
      "source": [
        "# Load in a sql function to use columns\n",
        "from pyspark.sql.functions import to_date\n",
        "# Convert the 'review_date' column to a date datatype with to_date(\"review_date\", 'yyyy-MM-dd').alias(\"review_date\")\n",
        "review_id_df = cleaned_df.select([\"review_id\", \"customer_id\", \"product_id\", \"product_parent\", to_date(\"review_date\", 'yyyy-MM-dd').alias(\"review_date\")])\n",
        "review_id_df.show()"
      ],
      "execution_count": 9,
      "outputs": [
        {
          "output_type": "stream",
          "text": [
            "+--------------+-----------+----------+--------------+-----------+\n",
            "|     review_id|customer_id|product_id|product_parent|review_date|\n",
            "+--------------+-----------+----------+--------------+-----------+\n",
            "|R26MV8D0KG6QI6|   42521656|B000SAQCWC|     159713740| 2015-08-31|\n",
            "|R1OF8GP57AQ1A0|   12049833|B00509LVIQ|     138680402| 2015-08-31|\n",
            "|R12FA3DCF8F9ER|    6042304|B000F8JIIC|     752728342| 2015-08-31|\n",
            "| RTWHVNV6X4CNJ|   18123821|B004ZWR9RQ|     552138758| 2015-08-31|\n",
            "| RIG9AWFOGRDVO|   23649464|B00AL6QBZ6|     681475449| 2015-08-31|\n",
            "|R1S1XSG4ZCHDGS|   32778285|B00BCNSTRA|     578681693| 2015-08-31|\n",
            "| RB15NBVY5ELVW|   46612941|B0089MM2BG|     350968436| 2015-08-31|\n",
            "|R155ZMVLD5C9BP|   31910375|B0001VKKOO|     189938205| 2015-08-31|\n",
            "|R2IXW43PUNYM0G|   12816533|B007TGH4CK|     398128262| 2015-08-31|\n",
            "|R3LYEG1QCK2BG0|   23208852|B002HMN6SC|      18057786| 2015-08-31|\n",
            "|R20LREICPM3YH0|   17348415|B004NRHAZO|     595020880| 2015-08-31|\n",
            "| RHA5COCZDVB13|   46763945|B00V7LJIG8|     173088090| 2015-08-31|\n",
            "| RT9BGRQANMANE|     961747|B0000E2YFI|     120269621| 2015-08-31|\n",
            "|R1OCUGZ444NKV3|   36328996|B00MN4KX3A|     787182505| 2015-08-31|\n",
            "| RCQQGWTC4J4TZ|   27092724|B004NTCE1M|     653570135| 2015-08-31|\n",
            "|R2Z0LF8EQK62VB|   49551226|B004BGM3HC|     608319289| 2015-08-31|\n",
            "|R101OH1JM3L08F|   32138061|B005QBAM6A|     127889324| 2015-08-31|\n",
            "| R9MISLBRG08FX|   35636887|B00DBSFXUA|     294404974| 2015-08-31|\n",
            "|R1NEKLQXUMRU9J|   31098097|B00BJ5FISE|     607453108| 2015-08-31|\n",
            "| RJKKUAD4MQB1M|   10013512|B004LUNVUG|     312488344| 2015-08-31|\n",
            "+--------------+-----------+----------+--------------+-----------+\n",
            "only showing top 20 rows\n",
            "\n"
          ],
          "name": "stdout"
        }
      ]
    },
    {
      "cell_type": "code",
      "metadata": {
        "id": "lzMmkdKmY--D",
        "colab": {
          "base_uri": "https://localhost:8080/"
        },
        "outputId": "cbac2bf6-8329-4815-f8ff-9942dee5360b"
      },
      "source": [
        "# Create the vine_table. DataFrame\n",
        "vine_df = cleaned_df.select([\"review_id\",\"star_rating\",\"helpful_votes\",\"total_votes\",\"vine\",\"verified_purchase\"])\n",
        "vine_df.show(5)"
      ],
      "execution_count": 10,
      "outputs": [
        {
          "output_type": "stream",
          "text": [
            "+--------------+-----------+-------------+-----------+----+-----------------+\n",
            "|     review_id|star_rating|helpful_votes|total_votes|vine|verified_purchase|\n",
            "+--------------+-----------+-------------+-----------+----+-----------------+\n",
            "|R26MV8D0KG6QI6|          5|            0|          0|   N|                Y|\n",
            "|R1OF8GP57AQ1A0|          5|            0|          0|   N|                Y|\n",
            "|R12FA3DCF8F9ER|          5|            0|          0|   N|                Y|\n",
            "| RTWHVNV6X4CNJ|          5|            0|          0|   N|                Y|\n",
            "| RIG9AWFOGRDVO|          2|            1|          1|   N|                Y|\n",
            "+--------------+-----------+-------------+-----------+----+-----------------+\n",
            "only showing top 5 rows\n",
            "\n"
          ],
          "name": "stdout"
        }
      ]
    },
    {
      "cell_type": "markdown",
      "metadata": {
        "id": "jITZhLkmY--J"
      },
      "source": [
        "### Connect to the AWS RDS instance and write each DataFrame to its table. "
      ]
    },
    {
      "cell_type": "code",
      "metadata": {
        "id": "7jiUvs1aY--L"
      },
      "source": [
        "# Configure settings for RDS\n",
        "mode = \"append\"\n",
        "jdbc_url=\"jdbc:postgresql://REMOVED.cx9rr7uswse3.us-east-2.rds.amazonaws.com:5432/REMOVED\"\n",
        "config = {\"user\":\"REMOVED\",\n",
        "          \"password\": \"REMOVED\",\n",
        "          \"driver\":\"org.postgresql.Driver\"}"
      ],
      "execution_count": 11,
      "outputs": []
    },
    {
      "cell_type": "code",
      "metadata": {
        "id": "T2zgZ-aKY--Q"
      },
      "source": [
        "# Write review_id_df to table in RDS\n",
        "review_id_df.write.jdbc(url=jdbc_url, table='review_id_table', mode=mode, properties=config)"
      ],
      "execution_count": 12,
      "outputs": []
    },
    {
      "cell_type": "code",
      "metadata": {
        "id": "1m3yzn-LY--U"
      },
      "source": [
        "# Write products_df to table in RDS\n",
        "# about 3 min\n",
        "products_df.write.jdbc(url=jdbc_url, table='products_table', mode=mode, properties=config)"
      ],
      "execution_count": 13,
      "outputs": []
    },
    {
      "cell_type": "code",
      "metadata": {
        "id": "KbXri15fY--Z"
      },
      "source": [
        "# Write customers_df to table in RDS\n",
        "# 5 min 14 s\n",
        "customers_df.write.jdbc(url=jdbc_url, table='customers_table', mode=mode, properties=config)"
      ],
      "execution_count": 14,
      "outputs": []
    },
    {
      "cell_type": "code",
      "metadata": {
        "id": "XdQknSHLY--e"
      },
      "source": [
        "# Write vine_df to table in RDS\n",
        "# 11 minutes\n",
        "vine_df.write.jdbc(url=jdbc_url, table='vine_table', mode=mode, properties=config)"
      ],
      "execution_count": 15,
      "outputs": []
    },
    {
      "cell_type": "code",
      "metadata": {
        "id": "Exuo6ebUsCqW"
      },
      "source": [
        ""
      ],
      "execution_count": 15,
      "outputs": []
    }
  ]
}